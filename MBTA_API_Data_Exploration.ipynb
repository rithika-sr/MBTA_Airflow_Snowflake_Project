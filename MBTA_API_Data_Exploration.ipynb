{
 "cells": [
  {
   "cell_type": "markdown",
   "id": "171cfaa5-96ef-445d-a06c-a7bef34a6f60",
   "metadata": {},
   "source": [
    "# MBTA API Data Exploration 🚆\n",
    "\n",
    "This notebook was created as the **exploration and prototyping stage** of the *MBTA Airflow – Snowflake Data Pipeline* project.\n",
    "\n",
    "The purpose of this notebook is to:\n",
    "- Connect to the **MBTA public API**.\n",
    "- Explore and understand the **data structure** and response format.\n",
    "- Select and clean the key features required for the data pipeline.\n",
    "- Prototype transformations using **Pandas** before automating them in **Apache Airflow**.\n",
    "\n",
    "Once validated, this logic was later modularized into Python functions within the Airflow DAG.\n"
   ]
  },
  {
   "cell_type": "code",
   "execution_count": 3,
   "id": "a22dbcba-1946-462c-aae9-fa100e560764",
   "metadata": {},
   "outputs": [],
   "source": [
    "import requests\n",
    "import pandas as pd\n",
    "import json"
   ]
  },
  {
   "cell_type": "code",
   "execution_count": 1,
   "id": "70fb0903-75ae-4e5c-a28f-7c53b27a47ba",
   "metadata": {},
   "outputs": [
    {
     "name": "stdout",
     "output_type": "stream",
     "text": [
      "Requirement already satisfied: requests in d:\\anaconda3\\lib\\site-packages (2.32.2)\n",
      "Requirement already satisfied: pandas in d:\\anaconda3\\lib\\site-packages (2.2.2)\n",
      "Requirement already satisfied: charset-normalizer<4,>=2 in d:\\anaconda3\\lib\\site-packages (from requests) (2.0.4)\n",
      "Requirement already satisfied: idna<4,>=2.5 in d:\\anaconda3\\lib\\site-packages (from requests) (3.7)\n",
      "Requirement already satisfied: urllib3<3,>=1.21.1 in d:\\anaconda3\\lib\\site-packages (from requests) (2.2.2)\n",
      "Requirement already satisfied: certifi>=2017.4.17 in d:\\anaconda3\\lib\\site-packages (from requests) (2025.1.31)\n",
      "Requirement already satisfied: numpy>=1.26.0 in d:\\anaconda3\\lib\\site-packages (from pandas) (1.26.4)\n",
      "Requirement already satisfied: python-dateutil>=2.8.2 in d:\\anaconda3\\lib\\site-packages (from pandas) (2.9.0.post0)\n",
      "Requirement already satisfied: pytz>=2020.1 in d:\\anaconda3\\lib\\site-packages (from pandas) (2024.1)\n",
      "Requirement already satisfied: tzdata>=2022.7 in d:\\anaconda3\\lib\\site-packages (from pandas) (2023.3)\n",
      "Requirement already satisfied: six>=1.5 in d:\\anaconda3\\lib\\site-packages (from python-dateutil>=2.8.2->pandas) (1.16.0)\n",
      "Note: you may need to restart the kernel to use updated packages.\n"
     ]
    }
   ],
   "source": [
    "pip install requests pandas"
   ]
  },
  {
   "cell_type": "code",
   "execution_count": 5,
   "id": "795afb50-0641-408c-b8ed-e4af0d90a2c5",
   "metadata": {},
   "outputs": [
    {
     "name": "stdout",
     "output_type": "stream",
     "text": [
      "  route  direction status               arrival_time departure_time  stop_seq\n",
      "0  None          0   None  2025-10-07T09:54:16-04:00           None       310\n",
      "1  None          1   None  2025-10-07T09:08:33-04:00           None       610\n",
      "2  None          0   None  2025-10-07T10:05:39-04:00           None       310\n",
      "3  None          1   None  2025-10-07T09:19:56-04:00           None       610\n",
      "4  None          1   None  2025-10-07T09:25:54-04:00           None       610\n"
     ]
    }
   ],
   "source": [
    "import os, requests, pandas as pd\n",
    "\n",
    "MBTA_API_KEY = os.getenv(\"MBTA_API_KEY\") or \"58482005259e487c8cede0d0f9ab6b6e\"\n",
    "\n",
    "url = (\n",
    "    \"https://api-v3.mbta.com/predictions\"\n",
    "    \"?filter[route]=Green-B\"            # try Red, Orange, Blue, 1 (bus), Green-C/D/E\n",
    "    \"&sort=departure_time\"\n",
    "    \"&page[limit]=5\"\n",
    "    \"&include=stop,route\"\n",
    ")\n",
    "\n",
    "r = requests.get(url, headers={\"x-api-key\": MBTA_API_KEY})\n",
    "r.raise_for_status()\n",
    "j = r.json()\n",
    "\n",
    "# Flatten a few useful fields\n",
    "rows = []\n",
    "for item in j.get(\"data\", []):\n",
    "    a = item[\"attributes\"]\n",
    "    rows.append({\n",
    "        \"route\": a.get(\"route\", None),\n",
    "        \"direction\": a.get(\"direction_id\"),\n",
    "        \"status\": a.get(\"status\"),\n",
    "        \"arrival_time\": a.get(\"arrival_time\"),\n",
    "        \"departure_time\": a.get(\"departure_time\"),\n",
    "        \"stop_seq\": a.get(\"stop_sequence\"),\n",
    "    })\n",
    "\n",
    "df = pd.DataFrame(rows)\n",
    "print(df if not df.empty else \"No rows returned. Try a different route (e.g., Red or 1).\")\n"
   ]
  },
  {
   "cell_type": "code",
   "execution_count": 9,
   "id": "0b96d307-08f2-44ed-bc85-b7a9f0b0b39b",
   "metadata": {},
   "outputs": [
    {
     "name": "stdout",
     "output_type": "stream",
     "text": [
      "Collecting snowflake-connector-python\n",
      "  Downloading snowflake_connector_python-3.18.0-cp312-cp312-win_amd64.whl.metadata (76 kB)\n",
      "     ---------------------------------------- 0.0/76.3 kB ? eta -:--:--\n",
      "     --------------- ---------------------- 30.7/76.3 kB 435.7 kB/s eta 0:00:01\n",
      "     -------------------------------------- 76.3/76.3 kB 847.5 kB/s eta 0:00:00\n",
      "Collecting asn1crypto<2.0.0,>0.24.0 (from snowflake-connector-python)\n",
      "  Downloading asn1crypto-1.5.1-py2.py3-none-any.whl.metadata (13 kB)\n",
      "Collecting boto3>=1.24 (from snowflake-connector-python)\n",
      "  Downloading boto3-1.40.46-py3-none-any.whl.metadata (6.7 kB)\n",
      "Requirement already satisfied: botocore>=1.24 in d:\\anaconda3\\lib\\site-packages (from snowflake-connector-python) (1.34.69)\n",
      "Requirement already satisfied: cffi<2.0.0,>=1.9 in d:\\anaconda3\\lib\\site-packages (from snowflake-connector-python) (1.16.0)\n",
      "Requirement already satisfied: cryptography>=3.1.0 in d:\\anaconda3\\lib\\site-packages (from snowflake-connector-python) (42.0.5)\n",
      "Requirement already satisfied: pyOpenSSL<26.0.0,>=22.0.0 in d:\\anaconda3\\lib\\site-packages (from snowflake-connector-python) (24.0.0)\n",
      "Requirement already satisfied: pyjwt<3.0.0 in d:\\anaconda3\\lib\\site-packages (from snowflake-connector-python) (2.8.0)\n",
      "Requirement already satisfied: pytz in d:\\anaconda3\\lib\\site-packages (from snowflake-connector-python) (2024.1)\n",
      "Requirement already satisfied: requests<3.0.0 in d:\\anaconda3\\lib\\site-packages (from snowflake-connector-python) (2.32.2)\n",
      "Requirement already satisfied: packaging in d:\\anaconda3\\lib\\site-packages (from snowflake-connector-python) (23.2)\n",
      "Requirement already satisfied: charset_normalizer<4,>=2 in d:\\anaconda3\\lib\\site-packages (from snowflake-connector-python) (2.0.4)\n",
      "Requirement already satisfied: idna<4,>=2.5 in d:\\anaconda3\\lib\\site-packages (from snowflake-connector-python) (3.7)\n",
      "Requirement already satisfied: certifi>=2017.4.17 in d:\\anaconda3\\lib\\site-packages (from snowflake-connector-python) (2025.1.31)\n",
      "Requirement already satisfied: typing_extensions<5,>=4.3 in d:\\anaconda3\\lib\\site-packages (from snowflake-connector-python) (4.12.2)\n",
      "Requirement already satisfied: filelock<4,>=3.5 in d:\\anaconda3\\lib\\site-packages (from snowflake-connector-python) (3.13.1)\n",
      "Requirement already satisfied: sortedcontainers>=2.4.0 in d:\\anaconda3\\lib\\site-packages (from snowflake-connector-python) (2.4.0)\n",
      "Requirement already satisfied: platformdirs<5.0.0,>=2.6.0 in d:\\anaconda3\\lib\\site-packages (from snowflake-connector-python) (3.10.0)\n",
      "Requirement already satisfied: tomlkit in d:\\anaconda3\\lib\\site-packages (from snowflake-connector-python) (0.11.1)\n",
      "Collecting botocore>=1.24 (from snowflake-connector-python)\n",
      "  Downloading botocore-1.40.46-py3-none-any.whl.metadata (5.7 kB)\n",
      "Requirement already satisfied: jmespath<2.0.0,>=0.7.1 in d:\\anaconda3\\lib\\site-packages (from boto3>=1.24->snowflake-connector-python) (1.0.1)\n",
      "Collecting s3transfer<0.15.0,>=0.14.0 (from boto3>=1.24->snowflake-connector-python)\n",
      "  Downloading s3transfer-0.14.0-py3-none-any.whl.metadata (1.7 kB)\n",
      "Requirement already satisfied: python-dateutil<3.0.0,>=2.1 in d:\\anaconda3\\lib\\site-packages (from botocore>=1.24->snowflake-connector-python) (2.9.0.post0)\n",
      "Requirement already satisfied: urllib3!=2.2.0,<3,>=1.25.4 in d:\\anaconda3\\lib\\site-packages (from botocore>=1.24->snowflake-connector-python) (2.2.2)\n",
      "Requirement already satisfied: pycparser in d:\\anaconda3\\lib\\site-packages (from cffi<2.0.0,>=1.9->snowflake-connector-python) (2.21)\n",
      "Requirement already satisfied: six>=1.5 in d:\\anaconda3\\lib\\site-packages (from python-dateutil<3.0.0,>=2.1->botocore>=1.24->snowflake-connector-python) (1.16.0)\n",
      "Downloading snowflake_connector_python-3.18.0-cp312-cp312-win_amd64.whl (1.2 MB)\n",
      "   ---------------------------------------- 0.0/1.2 MB ? eta -:--:--\n",
      "   ------ --------------------------------- 0.2/1.2 MB 5.3 MB/s eta 0:00:01\n",
      "   -------------------- ------------------- 0.6/1.2 MB 6.3 MB/s eta 0:00:01\n",
      "   ---------------------------------------- 1.2/1.2 MB 8.2 MB/s eta 0:00:00\n",
      "Downloading asn1crypto-1.5.1-py2.py3-none-any.whl (105 kB)\n",
      "   ---------------------------------------- 0.0/105.0 kB ? eta -:--:--\n",
      "   ---------------------------------------- 105.0/105.0 kB 5.9 MB/s eta 0:00:00\n",
      "Downloading boto3-1.40.46-py3-none-any.whl (139 kB)\n",
      "   ---------------------------------------- 0.0/139.3 kB ? eta -:--:--\n",
      "   ---------------------------------------- 139.3/139.3 kB ? eta 0:00:00\n",
      "Downloading botocore-1.40.46-py3-none-any.whl (14.1 MB)\n",
      "   ---------------------------------------- 0.0/14.1 MB ? eta -:--:--\n",
      "   -- ------------------------------------- 0.7/14.1 MB 23.1 MB/s eta 0:00:01\n",
      "   ---- ----------------------------------- 1.4/14.1 MB 18.2 MB/s eta 0:00:01\n",
      "   ------ --------------------------------- 2.3/14.1 MB 18.1 MB/s eta 0:00:01\n",
      "   -------- ------------------------------- 3.1/14.1 MB 17.8 MB/s eta 0:00:01\n",
      "   ----------- ---------------------------- 3.9/14.1 MB 17.8 MB/s eta 0:00:01\n",
      "   ------------- -------------------------- 4.8/14.1 MB 18.0 MB/s eta 0:00:01\n",
      "   --------------- ------------------------ 5.6/14.1 MB 17.8 MB/s eta 0:00:01\n",
      "   ---------------- ----------------------- 6.0/14.1 MB 16.6 MB/s eta 0:00:01\n",
      "   ------------------- -------------------- 6.8/14.1 MB 16.7 MB/s eta 0:00:01\n",
      "   --------------------- ------------------ 7.7/14.1 MB 16.9 MB/s eta 0:00:01\n",
      "   ----------------------- ---------------- 8.4/14.1 MB 16.7 MB/s eta 0:00:01\n",
      "   -------------------------- ------------- 9.3/14.1 MB 16.9 MB/s eta 0:00:01\n",
      "   ---------------------------- ----------- 10.2/14.1 MB 17.1 MB/s eta 0:00:01\n",
      "   ------------------------------- -------- 11.1/14.1 MB 17.7 MB/s eta 0:00:01\n",
      "   ---------------------------------- ----- 12.1/14.1 MB 17.7 MB/s eta 0:00:01\n",
      "   ------------------------------------- -- 13.2/14.1 MB 18.2 MB/s eta 0:00:01\n",
      "   ---------------------------------------  14.1/14.1 MB 18.7 MB/s eta 0:00:01\n",
      "   ---------------------------------------- 14.1/14.1 MB 17.2 MB/s eta 0:00:00\n",
      "Downloading s3transfer-0.14.0-py3-none-any.whl (85 kB)\n",
      "   ---------------------------------------- 0.0/85.7 kB ? eta -:--:--\n",
      "   ---------------------------------------- 85.7/85.7 kB 4.7 MB/s eta 0:00:00\n",
      "Installing collected packages: asn1crypto, botocore, s3transfer, boto3, snowflake-connector-python\n",
      "  Attempting uninstall: botocore\n",
      "    Found existing installation: botocore 1.34.69\n",
      "    Uninstalling botocore-1.34.69:\n",
      "      Successfully uninstalled botocore-1.34.69\n",
      "Successfully installed asn1crypto-1.5.1 boto3-1.40.46 botocore-1.40.46 s3transfer-0.14.0 snowflake-connector-python-3.18.0\n"
     ]
    },
    {
     "name": "stderr",
     "output_type": "stream",
     "text": [
      "ERROR: pip's dependency resolver does not currently take into account all the packages that are installed. This behaviour is the source of the following dependency conflicts.\n",
      "aiobotocore 2.12.3 requires botocore<1.34.70,>=1.34.41, but you have botocore 1.40.46 which is incompatible.\n"
     ]
    }
   ],
   "source": [
    "!pip install snowflake-connector-python"
   ]
  },
  {
   "cell_type": "code",
   "execution_count": 15,
   "id": "7729a08b-6a9e-427d-b8d1-e1b86125cf6c",
   "metadata": {},
   "outputs": [
    {
     "name": "stdout",
     "output_type": "stream",
     "text": [
      "✅ Data inserted successfully!\n"
     ]
    }
   ],
   "source": [
    "import snowflake.connector\n",
    "import pandas as pd\n",
    "\n",
    "# --- your MBTA dataframe from earlier ---\n",
    "# df  (already created from the API)\n",
    "\n",
    "# --- connect to Snowflake ---\n",
    "conn = snowflake.connector.connect(\n",
    "    user=\"RITHIKA0311\",  # same as the login in Snowflake\n",
    "    password=\"Charliembta@12345\",\n",
    "    account=\"vrc94697.us-east-1\",  # from your Snowflake URL\n",
    "    warehouse=\"COMPUTE_WH\",\n",
    "    database=\"SNOWFLAKE_LEARNING_DB\",\n",
    "    schema=\"PUBLIC\"\n",
    ")\n",
    "\n",
    "cur = conn.cursor()\n",
    "\n",
    "# --- insert dataframe rows into Snowflake ---\n",
    "for _, row in df.iterrows():\n",
    "    cur.execute(\"\"\"\n",
    "        INSERT INTO MBTA_LIVE_PREDICTIONS\n",
    "        (ROUTE, DIRECTION, STATUS, ARRIVAL_TIME, DEPARTURE_TIME, STOP_SEQ)\n",
    "        VALUES (%s, %s, %s, %s, %s, %s)\n",
    "    \"\"\", (\n",
    "        \"Green-B\",                             # or whichever route you fetched\n",
    "        int(row[\"direction\"]) if pd.notna(row[\"direction\"]) else None,\n",
    "        row[\"status\"],\n",
    "        row[\"arrival_time\"],\n",
    "        row[\"departure_time\"],\n",
    "        int(row[\"stop_seq\"]) if pd.notna(row[\"stop_seq\"]) else None\n",
    "    ))\n",
    "\n",
    "conn.commit()\n",
    "print(\"✅ Data inserted successfully!\")\n",
    "\n",
    "cur.close()\n",
    "conn.close()\n"
   ]
  },
  {
   "cell_type": "code",
   "execution_count": 17,
   "id": "311f27ac-5053-46b6-9619-d5d5939e068e",
   "metadata": {},
   "outputs": [
    {
     "name": "stdout",
     "output_type": "stream",
     "text": [
      "Requirement already satisfied: snowflake-connector-python in d:\\anaconda3\\lib\\site-packages (3.18.0)\n",
      "Requirement already satisfied: requests in d:\\anaconda3\\lib\\site-packages (2.32.2)\n",
      "Requirement already satisfied: pandas in d:\\anaconda3\\lib\\site-packages (2.2.2)\n",
      "Requirement already satisfied: asn1crypto<2.0.0,>0.24.0 in d:\\anaconda3\\lib\\site-packages (from snowflake-connector-python) (1.5.1)\n",
      "Requirement already satisfied: boto3>=1.24 in d:\\anaconda3\\lib\\site-packages (from snowflake-connector-python) (1.40.46)\n",
      "Requirement already satisfied: botocore>=1.24 in d:\\anaconda3\\lib\\site-packages (from snowflake-connector-python) (1.40.46)\n",
      "Requirement already satisfied: cffi<2.0.0,>=1.9 in d:\\anaconda3\\lib\\site-packages (from snowflake-connector-python) (1.16.0)\n",
      "Requirement already satisfied: cryptography>=3.1.0 in d:\\anaconda3\\lib\\site-packages (from snowflake-connector-python) (42.0.5)\n",
      "Requirement already satisfied: pyOpenSSL<26.0.0,>=22.0.0 in d:\\anaconda3\\lib\\site-packages (from snowflake-connector-python) (24.0.0)\n",
      "Requirement already satisfied: pyjwt<3.0.0 in d:\\anaconda3\\lib\\site-packages (from snowflake-connector-python) (2.8.0)\n",
      "Requirement already satisfied: pytz in d:\\anaconda3\\lib\\site-packages (from snowflake-connector-python) (2024.1)\n",
      "Requirement already satisfied: packaging in d:\\anaconda3\\lib\\site-packages (from snowflake-connector-python) (23.2)\n",
      "Requirement already satisfied: charset_normalizer<4,>=2 in d:\\anaconda3\\lib\\site-packages (from snowflake-connector-python) (2.0.4)\n",
      "Requirement already satisfied: idna<4,>=2.5 in d:\\anaconda3\\lib\\site-packages (from snowflake-connector-python) (3.7)\n",
      "Requirement already satisfied: certifi>=2017.4.17 in d:\\anaconda3\\lib\\site-packages (from snowflake-connector-python) (2025.1.31)\n",
      "Requirement already satisfied: typing_extensions<5,>=4.3 in d:\\anaconda3\\lib\\site-packages (from snowflake-connector-python) (4.12.2)\n",
      "Requirement already satisfied: filelock<4,>=3.5 in d:\\anaconda3\\lib\\site-packages (from snowflake-connector-python) (3.13.1)\n",
      "Requirement already satisfied: sortedcontainers>=2.4.0 in d:\\anaconda3\\lib\\site-packages (from snowflake-connector-python) (2.4.0)\n",
      "Requirement already satisfied: platformdirs<5.0.0,>=2.6.0 in d:\\anaconda3\\lib\\site-packages (from snowflake-connector-python) (3.10.0)\n",
      "Requirement already satisfied: tomlkit in d:\\anaconda3\\lib\\site-packages (from snowflake-connector-python) (0.11.1)\n",
      "Requirement already satisfied: urllib3<3,>=1.21.1 in d:\\anaconda3\\lib\\site-packages (from requests) (2.2.2)\n",
      "Requirement already satisfied: numpy>=1.26.0 in d:\\anaconda3\\lib\\site-packages (from pandas) (1.26.4)\n",
      "Requirement already satisfied: python-dateutil>=2.8.2 in d:\\anaconda3\\lib\\site-packages (from pandas) (2.9.0.post0)\n",
      "Requirement already satisfied: tzdata>=2022.7 in d:\\anaconda3\\lib\\site-packages (from pandas) (2023.3)\n",
      "Requirement already satisfied: jmespath<2.0.0,>=0.7.1 in d:\\anaconda3\\lib\\site-packages (from boto3>=1.24->snowflake-connector-python) (1.0.1)\n",
      "Requirement already satisfied: s3transfer<0.15.0,>=0.14.0 in d:\\anaconda3\\lib\\site-packages (from boto3>=1.24->snowflake-connector-python) (0.14.0)\n",
      "Requirement already satisfied: pycparser in d:\\anaconda3\\lib\\site-packages (from cffi<2.0.0,>=1.9->snowflake-connector-python) (2.21)\n",
      "Requirement already satisfied: six>=1.5 in d:\\anaconda3\\lib\\site-packages (from python-dateutil>=2.8.2->pandas) (1.16.0)\n",
      "Note: you may need to restart the kernel to use updated packages.\n"
     ]
    }
   ],
   "source": [
    "pip install snowflake-connector-python requests pandas"
   ]
  },
  {
   "cell_type": "code",
   "execution_count": 21,
   "id": "c879a499-679d-4806-861c-115fd89d316e",
   "metadata": {},
   "outputs": [
    {
     "name": "stdout",
     "output_type": "stream",
     "text": [
      "200\n",
      "✅ Success: 10 records fetched.\n"
     ]
    }
   ],
   "source": [
    "url = \"https://api-v3.mbta.com/predictions\"\n",
    "params = {\n",
    "    \"filter[route]\": \"Green-B\",\n",
    "    \"sort\": \"departure_time\",\n",
    "    \"page[limit]\": 10,\n",
    "    \"include\": \"stop,route\"\n",
    "}\n",
    "\n",
    "response = requests.get(url, params=params)\n",
    "print(response.status_code)\n",
    "\n",
    "if response.status_code != 200:\n",
    "    print(response.text)\n",
    "else:\n",
    "    data = response.json()\n",
    "    print(\"✅ Success:\", len(data.get(\"data\", [])), \"records fetched.\")\n"
   ]
  },
  {
   "cell_type": "code",
   "execution_count": 23,
   "id": "29dce477-d98a-4e5a-bc67-32db7c870750",
   "metadata": {},
   "outputs": [],
   "source": [
    "params = {\n",
    "    \"api_key\": MBTA_API_KEY,\n",
    "    \"filter[route]\": \"Green-B\",\n",
    "    \"sort\": \"departure_time\",\n",
    "    \"page[limit]\": 10,\n",
    "    \"include\": \"stop,route\"\n",
    "}\n"
   ]
  },
  {
   "cell_type": "code",
   "execution_count": 25,
   "id": "8be59ca2-af82-41a0-b08c-1ca769cc1576",
   "metadata": {},
   "outputs": [
    {
     "name": "stdout",
     "output_type": "stream",
     "text": [
      "✅ 10 MBTA records fetched at 2025-10-07 10:15:25.562812\n",
      "✅ Data successfully inserted into Snowflake!\n"
     ]
    }
   ],
   "source": [
    "import requests\n",
    "import pandas as pd\n",
    "import snowflake.connector\n",
    "from datetime import datetime\n",
    "\n",
    "# =======================\n",
    "# 1️⃣ MBTA API Setup\n",
    "# =======================\n",
    "url = \"https://api-v3.mbta.com/predictions\"\n",
    "params = {\n",
    "    \"filter[route]\": \"Green-B\",   # you can also try \"Red\", \"Orange\", or bus routes like \"1\"\n",
    "    \"sort\": \"departure_time\",\n",
    "    \"page[limit]\": 10,\n",
    "    \"include\": \"stop,route\"\n",
    "}\n",
    "\n",
    "response = requests.get(url, params=params)\n",
    "response.raise_for_status()\n",
    "data = response.json()\n",
    "\n",
    "rows = []\n",
    "for item in data.get(\"data\", []):\n",
    "    attr = item[\"attributes\"]\n",
    "    rows.append({\n",
    "        \"route\": \"Green-B\",\n",
    "        \"direction\": attr.get(\"direction_id\"),\n",
    "        \"status\": attr.get(\"status\"),\n",
    "        \"arrival_time\": attr.get(\"arrival_time\"),\n",
    "        \"departure_time\": attr.get(\"departure_time\"),\n",
    "        \"stop_seq\": attr.get(\"stop_sequence\")\n",
    "    })\n",
    "\n",
    "df = pd.DataFrame(rows)\n",
    "print(f\"✅ {len(df)} MBTA records fetched at {datetime.now()}\")\n",
    "\n",
    "# =======================\n",
    "# 2️⃣ Snowflake Connection\n",
    "# =======================\n",
    "conn = snowflake.connector.connect(\n",
    "    user=\"RITHIKA0311\",\n",
    "    password=\"Charliembta@12345\",\n",
    "    account=\"vrc94697.us-east-1\",\n",
    "    warehouse=\"COMPUTE_WH\",\n",
    "    database=\"SNOWFLAKE_LEARNING_DB\",\n",
    "    schema=\"PUBLIC\"\n",
    ")\n",
    "cur = conn.cursor()\n",
    "\n",
    "# =======================\n",
    "# 3️⃣ Insert into Snowflake\n",
    "# =======================\n",
    "for _, row in df.iterrows():\n",
    "    cur.execute(\"\"\"\n",
    "        INSERT INTO MBTA_LIVE_PREDICTIONS\n",
    "        (ROUTE, DIRECTION, STATUS, ARRIVAL_TIME, DEPARTURE_TIME, STOP_SEQ)\n",
    "        VALUES (%s, %s, %s, %s, %s, %s)\n",
    "    \"\"\", (\n",
    "        row[\"route\"],\n",
    "        int(row[\"direction\"]) if pd.notna(row[\"direction\"]) else None,\n",
    "        row[\"status\"],\n",
    "        row[\"arrival_time\"],\n",
    "        row[\"departure_time\"],\n",
    "        int(row[\"stop_seq\"]) if pd.notna(row[\"stop_seq\"]) else None\n",
    "    ))\n",
    "\n",
    "conn.commit()\n",
    "cur.close()\n",
    "conn.close()\n",
    "print(\"✅ Data successfully inserted into Snowflake!\")\n"
   ]
  },
  {
   "cell_type": "markdown",
   "id": "b5b7a808-f64d-4162-8fd5-6046e2b8f137",
   "metadata": {},
   "source": [
    "## Summary and Next Steps\n",
    "\n",
    "✅ Successfully fetched live MBTA train prediction data (Green-B line).  \n",
    "✅ Cleaned and structured the data using Pandas.  \n",
    "✅ Exported results into a CSV file (`/tmp/mbta_data.csv`).\n",
    "\n",
    "**Next Step:**  \n",
    "The logic prototyped here was converted into modular Python functions inside the Airflow DAG:\n",
    "- `fetch_mbta_data()` for API extraction and CSV creation.\n",
    "- `load_to_snowflake()` for database insertion and automation.\n",
    "\n",
    "This notebook demonstrates the exploration phase before moving to a fully orchestrated pipeline.\n"
   ]
  }
 ],
 "metadata": {
  "kernelspec": {
   "display_name": "Python 3 (ipykernel)",
   "language": "python",
   "name": "python3"
  },
  "language_info": {
   "codemirror_mode": {
    "name": "ipython",
    "version": 3
   },
   "file_extension": ".py",
   "mimetype": "text/x-python",
   "name": "python",
   "nbconvert_exporter": "python",
   "pygments_lexer": "ipython3",
   "version": "3.12.4"
  }
 },
 "nbformat": 4,
 "nbformat_minor": 5
}
